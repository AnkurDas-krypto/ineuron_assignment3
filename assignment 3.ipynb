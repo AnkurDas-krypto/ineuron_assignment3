{
 "cells": [
  {
   "cell_type": "markdown",
   "metadata": {},
   "source": [
    "#### 1 Write a Python Program to implement your own myreduce() function which works exactly  like Python's built-in function reduce() "
   ]
  },
  {
   "cell_type": "code",
   "execution_count": 1,
   "metadata": {},
   "outputs": [
    {
     "name": "stdout",
     "output_type": "stream",
     "text": [
      "Please insert the number :10\n",
      "List of First n Natural numbers are: [1, 2, 3, 4, 5, 6, 7, 8, 9, 10]\n",
      "Sum of List elements are : 55\n"
     ]
    }
   ],
   "source": [
    "def myreduce(num):\n",
    "    lst=list(range(1,number+1))\n",
    "    summation=0\n",
    "    \n",
    "    for i in lst:\n",
    "        summation +=i\n",
    "        \n",
    "    return lst,summation\n",
    "\n",
    "\n",
    "\n",
    "number=int(input(\"Please insert the number :\"))\n",
    "\n",
    "output, total=myreduce(number)\n",
    "\n",
    "\n",
    "print(\"List of First n Natural numbers are:\",output)\n",
    "print(\"Sum of List elements are :\", total)"
   ]
  },
  {
   "cell_type": "markdown",
   "metadata": {},
   "source": [
    "#### 2 Write a Python program to implement your own myfilter() function which works exactly  like Python's built-in function filter() "
   ]
  },
  {
   "cell_type": "code",
   "execution_count": 4,
   "metadata": {},
   "outputs": [
    {
     "name": "stdout",
     "output_type": "stream",
     "text": [
      "Please insert the number: 10\n",
      "Output:\n",
      "List of numbers: [1, 2, 3, 4, 5, 6, 7, 8, 9, 10]\n",
      "List of Even numbers  are: [2, 4, 6, 8, 10]\n",
      "List of Odd numbers are: [1, 3, 5, 7, 9]\n"
     ]
    }
   ],
   "source": [
    "\n",
    "number=int(input(\"Please insert the number: \"))\n",
    "\n",
    "lst=list(range(1,number+1))\n",
    "\n",
    "\n",
    "def myfilter(lst):\n",
    "    even_list=[]\n",
    "    odd_list=[]\n",
    "    \n",
    "    for i in lst:\n",
    "            if(i%2==0):\n",
    "                even_list.append(i)\n",
    "            else:\n",
    "                odd_list.append(i)\n",
    "                \n",
    "    return even_list, odd_list\n",
    "\n",
    "\n",
    "#Function Execution\n",
    "even_list, odd_list =myfilter(lst)\n",
    "\n",
    "#Output\n",
    "\n",
    "print(\"Output:\")\n",
    "print(\"List of numbers:\",lst)\n",
    "print(\"List of Even numbers  are:\",even_list)\n",
    "print(\"List of Odd numbers are:\", odd_list)"
   ]
  },
  {
   "cell_type": "markdown",
   "metadata": {},
   "source": [
    "#### ['x', 'xx', 'xxx', 'xxxx', 'y', 'yy', 'yyy', 'yyyy', 'z', 'zz', 'zzz', 'zzzz']   "
   ]
  },
  {
   "cell_type": "code",
   "execution_count": 6,
   "metadata": {},
   "outputs": [
    {
     "name": "stdout",
     "output_type": "stream",
     "text": [
      "['x', 'xx', 'xxx', 'xxxx', 'y', 'yy', 'yyy', 'yyyy', 'z', 'zz', 'zzz', 'zzzz']\n"
     ]
    }
   ],
   "source": [
    "lst =list('xyz')\n",
    "l=[x*n for x in lst for n in range(1,5) ]\n",
    "print(l)"
   ]
  },
  {
   "cell_type": "markdown",
   "metadata": {},
   "source": [
    "#### ['x', 'y', 'z', 'xx', 'yy', 'zz', 'xxx', 'yyy', 'zzz', 'xxxx', 'yyyy', 'zzzz']   "
   ]
  },
  {
   "cell_type": "code",
   "execution_count": 8,
   "metadata": {},
   "outputs": [
    {
     "name": "stdout",
     "output_type": "stream",
     "text": [
      "['x', 'y', 'z', 'xx', 'yy', 'zz', 'xxx', 'yyy', 'zzz', 'xxxx', 'yyyy', 'zzzz']\n"
     ]
    }
   ],
   "source": [
    "l=[x*n for n in range(1,5) for x in lst ]\n",
    "print(l)"
   ]
  },
  {
   "cell_type": "markdown",
   "metadata": {},
   "source": [
    "#### [[2], [3], [4], [3], [4], [5], [4], [5], [6]]"
   ]
  },
  {
   "cell_type": "code",
   "execution_count": 9,
   "metadata": {},
   "outputs": [
    {
     "name": "stdout",
     "output_type": "stream",
     "text": [
      "[[2], [3], [4], [3], [4], [5], [4], [5], [6]]\n"
     ]
    }
   ],
   "source": [
    "number=[2,3,4]\n",
    "n=[[x+n] for x in number for n in range(0,3)]\n",
    "print(n)"
   ]
  },
  {
   "cell_type": "markdown",
   "metadata": {},
   "source": [
    "#### [[2, 3, 4, 5], [3, 4, 5, 6], [4, 5, 6, 7], [5, 6, 7, 8]] \n"
   ]
  },
  {
   "cell_type": "code",
   "execution_count": 10,
   "metadata": {},
   "outputs": [
    {
     "name": "stdout",
     "output_type": "stream",
     "text": [
      "[[2, 3, 4, 5], [3, 4, 5, 6], [4, 5, 6, 7], [5, 6, 7, 8]]\n"
     ]
    }
   ],
   "source": [
    "number=[2,3,4,5]\n",
    "n=[[x+n for n in range(0,4)] for x in number ]\n",
    "print(n)"
   ]
  },
  {
   "cell_type": "markdown",
   "metadata": {},
   "source": [
    "#### [(1, 1), (2, 1), (3, 1), (1, 2), (2, 2), (3, 2), (1, 3), (2, 3), (3, 3)] "
   ]
  },
  {
   "cell_type": "code",
   "execution_count": 12,
   "metadata": {},
   "outputs": [
    {
     "name": "stdout",
     "output_type": "stream",
     "text": [
      "[(1, 1), (2, 1), (3, 1), (1, 2), (2, 2), (3, 2), (1, 3), (2, 3), (3, 3)]\n"
     ]
    }
   ],
   "source": [
    "number=[1,2,3]\n",
    "n= [(b,a) for a in number for b in number]\n",
    "print(number_5)"
   ]
  },
  {
   "cell_type": "code",
   "execution_count": null,
   "metadata": {},
   "outputs": [],
   "source": []
  }
 ],
 "metadata": {
  "kernelspec": {
   "display_name": "Python 3",
   "language": "python",
   "name": "python3"
  },
  "language_info": {
   "codemirror_mode": {
    "name": "ipython",
    "version": 3
   },
   "file_extension": ".py",
   "mimetype": "text/x-python",
   "name": "python",
   "nbconvert_exporter": "python",
   "pygments_lexer": "ipython3",
   "version": "3.7.1"
  }
 },
 "nbformat": 4,
 "nbformat_minor": 4
}
